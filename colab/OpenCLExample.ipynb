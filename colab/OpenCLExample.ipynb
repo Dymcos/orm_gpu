{
  "nbformat": 4,
  "nbformat_minor": 0,
  "metadata": {
    "colab": {
      "provenance": [],
      "include_colab_link": true
    },
    "kernelspec": {
      "name": "python3",
      "display_name": "Python 3"
    },
    "language_info": {
      "name": "python"
    }
  },
  "cells": [
    {
      "cell_type": "markdown",
      "metadata": {
        "id": "view-in-github",
        "colab_type": "text"
      },
      "source": [
        "<a href=\"https://colab.research.google.com/github/Dymcos/orm_gpu/blob/main/colab/OpenCLExample.ipynb\" target=\"_parent\"><img src=\"https://colab.research.google.com/assets/colab-badge.svg\" alt=\"Open In Colab\"/></a>"
      ]
    },
    {
      "cell_type": "markdown",
      "source": [
        "# **Пример выполнения программы на OpenCL**\n",
        "\n",
        "* Для запуска программы загрузите файлы из github:\n",
        "\n",
        "  https://github.com/Dymcos/orm_gpu/tree/main/colab"
      ],
      "metadata": {
        "id": "pnDCPCBPLi1c"
      }
    },
    {
      "cell_type": "markdown",
      "source": [
        "Установка утилиты для взаимодействия OpenCl с процессором:"
      ],
      "metadata": {
        "id": "5mMKQGPpTOGP"
      }
    },
    {
      "cell_type": "code",
      "source": [
        "!apt install pocl-opencl-icd"
      ],
      "metadata": {
        "id": "SnnP7LvNFBhq",
        "outputId": "a83fc8de-47ac-4bab-fd83-82d5feb10435",
        "colab": {
          "base_uri": "https://localhost:8080/"
        }
      },
      "execution_count": 116,
      "outputs": [
        {
          "output_type": "stream",
          "name": "stdout",
          "text": [
            "Reading package lists... Done\n",
            "Building dependency tree... Done\n",
            "Reading state information... Done\n",
            "pocl-opencl-icd is already the newest version (1.8-3).\n",
            "0 upgraded, 0 newly installed, 0 to remove and 30 not upgraded.\n"
          ]
        }
      ]
    },
    {
      "cell_type": "markdown",
      "source": [
        "Сборка проекта:"
      ],
      "metadata": {
        "id": "1DPsO-EbSeNP"
      }
    },
    {
      "cell_type": "code",
      "source": [
        "!rm -rf build/ && mkdir build && cd build && cmake ../ && cmake --build ."
      ],
      "metadata": {
        "id": "n7z78hUoBMKB",
        "outputId": "f9d5a265-39b9-4f0a-d4d3-8889dd25dd81",
        "colab": {
          "base_uri": "https://localhost:8080/"
        }
      },
      "execution_count": 118,
      "outputs": [
        {
          "output_type": "stream",
          "name": "stdout",
          "text": [
            "-- The C compiler identification is GNU 11.4.0\n",
            "-- The CXX compiler identification is GNU 11.4.0\n",
            "-- Detecting C compiler ABI info\n",
            "-- Detecting C compiler ABI info - done\n",
            "-- Check for working C compiler: /usr/bin/cc - skipped\n",
            "-- Detecting C compile features\n",
            "-- Detecting C compile features - done\n",
            "-- Detecting CXX compiler ABI info\n",
            "-- Detecting CXX compiler ABI info - done\n",
            "-- Check for working CXX compiler: /usr/bin/c++ - skipped\n",
            "-- Detecting CXX compile features\n",
            "-- Detecting CXX compile features - done\n",
            "-- Looking for CL_VERSION_3_0\n",
            "-- Looking for CL_VERSION_3_0 - found\n",
            "-- Found OpenCL: /usr/lib/x86_64-linux-gnu/libOpenCL.so (found version \"3.0\")\n",
            "-- Configuring done (0.5s)\n",
            "-- Generating done (0.0s)\n",
            "-- Build files have been written to: /content/build\n",
            "[ 50%] \u001b[32mBuilding CXX object CMakeFiles/examples_ocl.dir/main.cpp.o\u001b[0m\n",
            "In file included from \u001b[01m\u001b[K/content/main.cpp:2\u001b[m\u001b[K:\n",
            "\u001b[01m\u001b[K/usr/include/CL/opencl.hpp:437:112:\u001b[m\u001b[K \u001b[01;36m\u001b[Knote: \u001b[m\u001b[K‘\u001b[01m\u001b[K#pragma message: opencl.hpp: CL_HPP_TARGET_OPENCL_VERSION is not defined. It will default to 300 (OpenCL 3.0)\u001b[m\u001b[K’\n",
            "  437 | # pragma message(\"opencl.hpp: CL_HPP_TARGET_OPENCL_VERSION is not defined. It will default to 300 (OpenCL 3.0)\"\u001b[01;36m\u001b[K)\u001b[m\u001b[K\n",
            "      |                                                                                                                \u001b[01;36m\u001b[K^\u001b[m\u001b[K\n",
            "[100%] \u001b[32m\u001b[1mLinking CXX executable examples_ocl\u001b[0m\n",
            "[100%] Built target examples_ocl\n"
          ]
        }
      ]
    },
    {
      "cell_type": "markdown",
      "source": [
        "Запуск программы:"
      ],
      "metadata": {
        "id": "ZVk62lg4SiPt"
      }
    },
    {
      "cell_type": "code",
      "source": [
        "!cd build && ./examples_ocl ../input_file.wav ../out_file.bin"
      ],
      "metadata": {
        "id": "zne7jMOsDXCp",
        "outputId": "a2419d7d-5a46-4cba-9347-1487ef76bab5",
        "colab": {
          "base_uri": "https://localhost:8080/"
        }
      },
      "execution_count": 113,
      "outputs": [
        {
          "output_type": "stream",
          "name": "stdout",
          "text": [
            "44100"
          ]
        }
      ]
    },
    {
      "cell_type": "code",
      "source": [],
      "metadata": {
        "id": "Gcm8s4BHBds9"
      },
      "execution_count": null,
      "outputs": []
    }
  ]
}
